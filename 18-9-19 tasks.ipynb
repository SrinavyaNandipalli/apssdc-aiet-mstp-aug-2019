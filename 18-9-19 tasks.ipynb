{
 "cells": [
  {
   "cell_type": "markdown",
   "metadata": {},
   "source": [
    "16811A0444"
   ]
  },
  {
   "cell_type": "markdown",
   "metadata": {},
   "source": [
    "Question -1: write a program to print the digits in given string using map or filter Input Format: 1b3a85a05H4 Output Format: 1385054\n",
    "\n",
    "​"
   ]
  },
  {
   "cell_type": "code",
   "execution_count": 10,
   "metadata": {},
   "outputs": [
    {
     "name": "stdout",
     "output_type": "stream",
     "text": [
      "1385054"
     ]
    }
   ],
   "source": [
    "s=\"1b3a85a05H4\"\n",
    "def isdigit(s):\n",
    "    s=str(s)\n",
    "    if s.isdigit():\n",
    "        return True\n",
    "    return False\n",
    "a=list(filter(isdigit,s))\n",
    "for i in a:\n",
    "    if i.isdigit():\n",
    "        print(i,end=\"\")\n"
   ]
  },
  {
   "cell_type": "markdown",
   "metadata": {},
   "source": [
    "Question -2:\n",
    "write a program to print the N qubes sum from 1 to N if n=3(1**3+2**3+3**3)\n",
    "Input Format:\n",
    "3\n",
    "Output Format:\n",
    "36"
   ]
  },
  {
   "cell_type": "code",
   "execution_count": 9,
   "metadata": {},
   "outputs": [
    {
     "name": "stdout",
     "output_type": "stream",
     "text": [
      "36\n"
     ]
    }
   ],
   "source": [
    "def cubeofnum(n):\n",
    "    return n ** 3\n",
    "result = sum(map(cubeofnum,range(1,4)))\n",
    "print(result)"
   ]
  }
 ],
 "metadata": {
  "kernelspec": {
   "display_name": "Python 3",
   "language": "python",
   "name": "python3"
  },
  "language_info": {
   "codemirror_mode": {
    "name": "ipython",
    "version": 3
   },
   "file_extension": ".py",
   "mimetype": "text/x-python",
   "name": "python",
   "nbconvert_exporter": "python",
   "pygments_lexer": "ipython3",
   "version": "3.7.3"
  }
 },
 "nbformat": 4,
 "nbformat_minor": 2
}
