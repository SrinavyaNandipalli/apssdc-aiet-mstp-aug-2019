{
 "cells": [
  {
   "cell_type": "markdown",
   "metadata": {},
   "source": [
    "Question-1: Write a Python Program to largest of three given numbers (using input statement)\n",
    "Sample:Output:"
   ]
  },
  {
   "cell_type": "markdown",
   "metadata": {},
   "source": [
    "#### solution for 1st quetion "
   ]
  },
  {
   "cell_type": "code",
   "execution_count": 3,
   "metadata": {},
   "outputs": [
    {
     "name": "stdout",
     "output_type": "stream",
     "text": [
      "enter 1st number5\n",
      "enter 2nd number5\n",
      "enter 3rd number5\n",
      "three values r same\n"
     ]
    }
   ],
   "source": [
    "a = int(input(\"enter 1st number\"))\n",
    "b = int(input(\"enter 2nd number\"))\n",
    "c = int(input(\"enter 3rd number\"))\n",
    "if a<b<c:\n",
    "    print(c,'is largest number')\n",
    "elif c<a<b:\n",
    "    print(b,'is largest number')\n",
    "elif b<c<a:\n",
    "    print(a, 'is largest number')\n",
    "else:\n",
    "    print('three values r same')"
   ]
  },
  {
   "cell_type": "markdown",
   "metadata": {},
   "source": [
    "Question -2: Write a python program to find the given number(N) in given range(lower bound-upper bound)"
   ]
  },
  {
   "cell_type": "markdown",
   "metadata": {},
   "source": [
    "#### solution for 2nd question"
   ]
  },
  {
   "cell_type": "code",
   "execution_count": 5,
   "metadata": {},
   "outputs": [
    {
     "name": "stdout",
     "output_type": "stream",
     "text": [
      "enter lower bound value55\n",
      "enter uppeer bound value88\n",
      "50\n",
      "given number is not exist\n"
     ]
    }
   ],
   "source": [
    "a =int(input(\"enter lower bound value\"))\n",
    "b =int(input(\"enter uppeer bound value\"))\n",
    "n=int(input())\n",
    "if(a<=n)and(n<=b):\n",
    "    print(\"given number is exist\")    \n",
    "else:\n",
    "    print(\"given number is not exist\")"
   ]
  },
  {
   "cell_type": "code",
   "execution_count": null,
   "metadata": {},
   "outputs": [],
   "source": []
  }
 ],
 "metadata": {
  "kernelspec": {
   "display_name": "Python 3",
   "language": "python",
   "name": "python3"
  },
  "language_info": {
   "codemirror_mode": {
    "name": "ipython",
    "version": 3
   },
   "file_extension": ".py",
   "mimetype": "text/x-python",
   "name": "python",
   "nbconvert_exporter": "python",
   "pygments_lexer": "ipython3",
   "version": "3.7.3"
  }
 },
 "nbformat": 4,
 "nbformat_minor": 2
}
